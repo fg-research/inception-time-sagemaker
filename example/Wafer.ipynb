{
 "cells": [
  {
   "cell_type": "markdown",
   "id": "00b4cce5-0973-46a6-bd36-b857ed5d3468",
   "metadata": {
    "tags": []
   },
   "source": [
    "# UCR Dataset: Wafer"
   ]
  },
  {
   "cell_type": "markdown",
   "id": "176ecc70-6bb5-47b6-be2e-b4908667eb32",
   "metadata": {
    "tags": []
   },
   "source": [
    "**Dataset Homepage:** https://timeseriesclassification.com/description.php?Dataset=Wafer."
   ]
  },
  {
   "cell_type": "markdown",
   "id": "21e51ab5-ec10-4707-b24f-61d7b9789140",
   "metadata": {
    "tags": []
   },
   "source": [
    "### 1. Environment set-up"
   ]
  },
  {
   "cell_type": "markdown",
   "id": "8cbb7d39-b132-4de3-bd41-c1853c600675",
   "metadata": {},
   "source": [
    "1. This notebook contains elements which render correctly in Jupyter interface. Open this notebook from an Amazon SageMaker Notebook Instance or Amazon SageMaker Studio.\n",
    "1. Ensure that IAM role used has **AmazonSageMakerFullAccess**\n",
    "1. Some hands-on experience using [Amazon SageMaker](https://aws.amazon.com/sagemaker/).\n",
    "1. To use this algorithm successfully, ensure that:\n",
    "    1. Either your IAM role has these three permissions and you have authority to make AWS Marketplace subscriptions in the AWS account used: \n",
    "        1. **aws-marketplace:ViewSubscriptions**\n",
    "        1. **aws-marketplace:Unsubscribe**\n",
    "        1. **aws-marketplace:Subscribe**  \n",
    "    2. or your AWS account has a subscription to the [Time Series Classification (Inception) Algorithm from AWS Marketplace](https://aws.amazon.com/marketplace/pp/prodview-omz7rumnllmla).\n",
    "\n",
    "To subscribe to the algorithm:\n",
    "1. Open the algorithm listing page.\n",
    "1. On the AWS Marketplace listing, click on the **Continue to subscribe** button.\n",
    "1. On the **Subscribe to this software** page, review and click on **\"Accept Offer\"** if you agree with EULA, pricing, and support terms. \n",
    "1. Once you click on the **Continue to configuration** button and then choose a **region**, you will see a **Product ARN**. This is the algorithm ARN that you need to specify while training a custom ML model. **Copy the ARN corresponding to your region and specify the same in the following cell.**"
   ]
  },
  {
   "cell_type": "code",
   "execution_count": 1,
   "id": "8de79055-f675-469f-b6d5-a6e3fe1ecc11",
   "metadata": {
    "tags": []
   },
   "outputs": [],
   "source": [
    "# SageMaker algorithm ARN from AWS Marketplace\n",
    "algo_arn = \"arn:aws:sagemaker:<...>\""
   ]
  },
  {
   "cell_type": "code",
   "execution_count": 2,
   "id": "80280b9b-6f4a-477c-96e8-c547a9782d4b",
   "metadata": {
    "tags": []
   },
   "outputs": [
    {
     "name": "stderr",
     "output_type": "stream",
     "text": [
      "/home/ec2-user/anaconda3/envs/python3/lib/python3.10/site-packages/pandas/core/computation/expressions.py:21: UserWarning: Pandas requires version '2.8.0' or newer of 'numexpr' (version '2.7.3' currently installed).\n",
      "  from pandas.core.computation.check import NUMEXPR_INSTALLED\n"
     ]
    },
    {
     "name": "stdout",
     "output_type": "stream",
     "text": [
      "sagemaker.config INFO - Not applying SDK defaults from location: /etc/xdg/sagemaker/config.yaml\n",
      "sagemaker.config INFO - Not applying SDK defaults from location: /home/ec2-user/.config/sagemaker/config.yaml\n",
      "sagemaker.config INFO - Not applying SDK defaults from location: /etc/xdg/sagemaker/config.yaml\n",
      "sagemaker.config INFO - Not applying SDK defaults from location: /home/ec2-user/.config/sagemaker/config.yaml\n",
      "sagemaker.config INFO - Not applying SDK defaults from location: /etc/xdg/sagemaker/config.yaml\n",
      "sagemaker.config INFO - Not applying SDK defaults from location: /home/ec2-user/.config/sagemaker/config.yaml\n"
     ]
    }
   ],
   "source": [
    "import io\n",
    "import sagemaker\n",
    "import pandas as pd\n",
    "import numpy as np\n",
    "import matplotlib.pyplot as plt\n",
    "from sklearn.metrics import classification_report\n",
    "\n",
    "# SageMaker session\n",
    "sagemaker_session = sagemaker.Session()\n",
    "\n",
    "# SageMaker role\n",
    "role = sagemaker.get_execution_role()\n",
    "\n",
    "# S3 bucket\n",
    "bucket = sagemaker_session.default_bucket()\n",
    "\n",
    "# EC2 instance\n",
    "instance_type = \"ml.m5.2xlarge\""
   ]
  },
  {
   "cell_type": "markdown",
   "id": "67719620-88fe-4fdf-84a2-60b62069863f",
   "metadata": {},
   "source": [
    "### 2. Data preparation"
   ]
  },
  {
   "cell_type": "markdown",
   "id": "814efa03-16dd-478c-a0a7-c8c5c99603ba",
   "metadata": {
    "tags": []
   },
   "source": [
    "#### 2.1 Training dataset"
   ]
  },
  {
   "cell_type": "markdown",
   "id": "4683eacd-0cd5-47fd-a530-31ccccb37935",
   "metadata": {},
   "source": [
    "Load the training data."
   ]
  },
  {
   "cell_type": "code",
   "execution_count": 3,
   "id": "82c3df99-a4cc-44e2-8960-f4a6943d1f3f",
   "metadata": {
    "tags": []
   },
   "outputs": [],
   "source": [
    "training_dataset = pd.DataFrame(data=np.genfromtxt(\"Wafer_TRAIN.txt\"))"
   ]
  },
  {
   "cell_type": "code",
   "execution_count": 4,
   "id": "dbc5f943-327e-41e9-bd8d-6891afa7f0f2",
   "metadata": {
    "tags": []
   },
   "outputs": [
    {
     "data": {
      "text/plain": [
       "(1000, 153)"
      ]
     },
     "execution_count": 4,
     "metadata": {},
     "output_type": "execute_result"
    }
   ],
   "source": [
    "training_dataset.shape"
   ]
  },
  {
   "cell_type": "code",
   "execution_count": 5,
   "id": "25b44428-95fd-4394-af1d-cf268e36818b",
   "metadata": {
    "tags": []
   },
   "outputs": [
    {
     "data": {
      "text/html": [
       "<div>\n",
       "<style scoped>\n",
       "    .dataframe tbody tr th:only-of-type {\n",
       "        vertical-align: middle;\n",
       "    }\n",
       "\n",
       "    .dataframe tbody tr th {\n",
       "        vertical-align: top;\n",
       "    }\n",
       "\n",
       "    .dataframe thead th {\n",
       "        text-align: right;\n",
       "    }\n",
       "</style>\n",
       "<table border=\"1\" class=\"dataframe\">\n",
       "  <thead>\n",
       "    <tr style=\"text-align: right;\">\n",
       "      <th></th>\n",
       "      <th>0</th>\n",
       "      <th>1</th>\n",
       "      <th>2</th>\n",
       "      <th>3</th>\n",
       "      <th>4</th>\n",
       "      <th>5</th>\n",
       "      <th>6</th>\n",
       "      <th>7</th>\n",
       "      <th>8</th>\n",
       "      <th>9</th>\n",
       "      <th>...</th>\n",
       "      <th>143</th>\n",
       "      <th>144</th>\n",
       "      <th>145</th>\n",
       "      <th>146</th>\n",
       "      <th>147</th>\n",
       "      <th>148</th>\n",
       "      <th>149</th>\n",
       "      <th>150</th>\n",
       "      <th>151</th>\n",
       "      <th>152</th>\n",
       "    </tr>\n",
       "  </thead>\n",
       "  <tbody>\n",
       "    <tr>\n",
       "      <th>0</th>\n",
       "      <td>1.0</td>\n",
       "      <td>-1.602294</td>\n",
       "      <td>-1.670823</td>\n",
       "      <td>-1.693666</td>\n",
       "      <td>-1.699377</td>\n",
       "      <td>-1.699377</td>\n",
       "      <td>-1.703660</td>\n",
       "      <td>-1.703660</td>\n",
       "      <td>-1.703660</td>\n",
       "      <td>-1.703660</td>\n",
       "      <td>...</td>\n",
       "      <td>-1.145432</td>\n",
       "      <td>-1.145432</td>\n",
       "      <td>-1.145432</td>\n",
       "      <td>-1.145432</td>\n",
       "      <td>-1.145432</td>\n",
       "      <td>-1.145432</td>\n",
       "      <td>-1.145432</td>\n",
       "      <td>-1.145432</td>\n",
       "      <td>-1.145432</td>\n",
       "      <td>-1.145432</td>\n",
       "    </tr>\n",
       "    <tr>\n",
       "      <th>1</th>\n",
       "      <td>1.0</td>\n",
       "      <td>1.084591</td>\n",
       "      <td>1.084591</td>\n",
       "      <td>1.084591</td>\n",
       "      <td>1.065308</td>\n",
       "      <td>1.065308</td>\n",
       "      <td>1.065308</td>\n",
       "      <td>1.065308</td>\n",
       "      <td>1.065308</td>\n",
       "      <td>1.065308</td>\n",
       "      <td>...</td>\n",
       "      <td>1.065308</td>\n",
       "      <td>1.065308</td>\n",
       "      <td>1.065308</td>\n",
       "      <td>1.065308</td>\n",
       "      <td>1.065308</td>\n",
       "      <td>1.065308</td>\n",
       "      <td>1.065308</td>\n",
       "      <td>1.065308</td>\n",
       "      <td>1.065308</td>\n",
       "      <td>1.065308</td>\n",
       "    </tr>\n",
       "    <tr>\n",
       "      <th>2</th>\n",
       "      <td>1.0</td>\n",
       "      <td>0.362689</td>\n",
       "      <td>0.362689</td>\n",
       "      <td>0.362689</td>\n",
       "      <td>0.393316</td>\n",
       "      <td>0.362689</td>\n",
       "      <td>0.362689</td>\n",
       "      <td>0.362689</td>\n",
       "      <td>0.362689</td>\n",
       "      <td>0.362689</td>\n",
       "      <td>...</td>\n",
       "      <td>0.393316</td>\n",
       "      <td>0.393316</td>\n",
       "      <td>0.393316</td>\n",
       "      <td>0.362689</td>\n",
       "      <td>0.393316</td>\n",
       "      <td>0.393316</td>\n",
       "      <td>0.393316</td>\n",
       "      <td>0.393316</td>\n",
       "      <td>0.393316</td>\n",
       "      <td>0.393316</td>\n",
       "    </tr>\n",
       "    <tr>\n",
       "      <th>3</th>\n",
       "      <td>1.0</td>\n",
       "      <td>-1.094523</td>\n",
       "      <td>-1.094523</td>\n",
       "      <td>-1.094523</td>\n",
       "      <td>-1.096732</td>\n",
       "      <td>-1.094523</td>\n",
       "      <td>-1.096732</td>\n",
       "      <td>-1.094523</td>\n",
       "      <td>-1.094523</td>\n",
       "      <td>-1.094523</td>\n",
       "      <td>...</td>\n",
       "      <td>-1.096732</td>\n",
       "      <td>-1.096732</td>\n",
       "      <td>-1.096732</td>\n",
       "      <td>-1.096732</td>\n",
       "      <td>-1.096732</td>\n",
       "      <td>-1.096732</td>\n",
       "      <td>-1.096732</td>\n",
       "      <td>-1.096732</td>\n",
       "      <td>-1.096732</td>\n",
       "      <td>-1.096732</td>\n",
       "    </tr>\n",
       "    <tr>\n",
       "      <th>4</th>\n",
       "      <td>1.0</td>\n",
       "      <td>-1.103761</td>\n",
       "      <td>-1.103761</td>\n",
       "      <td>-1.103761</td>\n",
       "      <td>-1.103761</td>\n",
       "      <td>-1.103761</td>\n",
       "      <td>-1.103761</td>\n",
       "      <td>-1.103761</td>\n",
       "      <td>-1.103761</td>\n",
       "      <td>-1.103761</td>\n",
       "      <td>...</td>\n",
       "      <td>-1.103761</td>\n",
       "      <td>-1.103761</td>\n",
       "      <td>-1.103761</td>\n",
       "      <td>-1.103761</td>\n",
       "      <td>-1.103761</td>\n",
       "      <td>-1.103761</td>\n",
       "      <td>-1.103761</td>\n",
       "      <td>-1.103761</td>\n",
       "      <td>-1.103761</td>\n",
       "      <td>-1.103761</td>\n",
       "    </tr>\n",
       "  </tbody>\n",
       "</table>\n",
       "<p>5 rows × 153 columns</p>\n",
       "</div>"
      ],
      "text/plain": [
       "   0         1         2         3         4         5         6         7    \\\n",
       "0  1.0 -1.602294 -1.670823 -1.693666 -1.699377 -1.699377 -1.703660 -1.703660   \n",
       "1  1.0  1.084591  1.084591  1.084591  1.065308  1.065308  1.065308  1.065308   \n",
       "2  1.0  0.362689  0.362689  0.362689  0.393316  0.362689  0.362689  0.362689   \n",
       "3  1.0 -1.094523 -1.094523 -1.094523 -1.096732 -1.094523 -1.096732 -1.094523   \n",
       "4  1.0 -1.103761 -1.103761 -1.103761 -1.103761 -1.103761 -1.103761 -1.103761   \n",
       "\n",
       "        8         9    ...       143       144       145       146       147  \\\n",
       "0 -1.703660 -1.703660  ... -1.145432 -1.145432 -1.145432 -1.145432 -1.145432   \n",
       "1  1.065308  1.065308  ...  1.065308  1.065308  1.065308  1.065308  1.065308   \n",
       "2  0.362689  0.362689  ...  0.393316  0.393316  0.393316  0.362689  0.393316   \n",
       "3 -1.094523 -1.094523  ... -1.096732 -1.096732 -1.096732 -1.096732 -1.096732   \n",
       "4 -1.103761 -1.103761  ... -1.103761 -1.103761 -1.103761 -1.103761 -1.103761   \n",
       "\n",
       "        148       149       150       151       152  \n",
       "0 -1.145432 -1.145432 -1.145432 -1.145432 -1.145432  \n",
       "1  1.065308  1.065308  1.065308  1.065308  1.065308  \n",
       "2  0.393316  0.393316  0.393316  0.393316  0.393316  \n",
       "3 -1.096732 -1.096732 -1.096732 -1.096732 -1.096732  \n",
       "4 -1.103761 -1.103761 -1.103761 -1.103761 -1.103761  \n",
       "\n",
       "[5 rows x 153 columns]"
      ]
     },
     "execution_count": 5,
     "metadata": {},
     "output_type": "execute_result"
    }
   ],
   "source": [
    "training_dataset.head()"
   ]
  },
  {
   "cell_type": "code",
   "execution_count": 6,
   "id": "8fb846c8-3a3a-4cf1-ae4a-1fa2c778483d",
   "metadata": {
    "tags": []
   },
   "outputs": [
    {
     "data": {
      "text/plain": [
       "array([-1.,  1.])"
      ]
     },
     "execution_count": 6,
     "metadata": {},
     "output_type": "execute_result"
    }
   ],
   "source": [
    "training_dataset.iloc[:, 0].sort_values().unique()"
   ]
  },
  {
   "cell_type": "code",
   "execution_count": 7,
   "id": "8a9c6fa9-3080-4770-9e0d-af76582cc74b",
   "metadata": {
    "tags": []
   },
   "outputs": [
    {
     "data": {
      "text/plain": [
       "-1.0     97\n",
       " 1.0    903\n",
       "Name: count, dtype: int64"
      ]
     },
     "execution_count": 7,
     "metadata": {},
     "output_type": "execute_result"
    }
   ],
   "source": [
    "training_dataset.iloc[:, 0].rename(None).value_counts().sort_index()"
   ]
  },
  {
   "cell_type": "markdown",
   "id": "75ea9cdd-071a-497f-987d-e0f6a8a28f6a",
   "metadata": {},
   "source": [
    "Visualize the training data."
   ]
  },
  {
   "cell_type": "code",
   "execution_count": 8,
   "id": "aca1ef12-a703-43b7-a49f-293ade700de0",
   "metadata": {
    "tags": []
   },
   "outputs": [
    {
     "data": {
      "image/png": "[encoded data removed]",
      "text/plain": [
       "<Figure size 600x600 with 2 Axes>"
      ]
     },
     "metadata": {},
     "output_type": "display_data"
    }
   ],
   "source": [
    "fig, axs = plt.subplots(nrows=training_dataset.iloc[:, 0].nunique(), ncols=1, sharex=True, figsize=(6, 6))\n",
    "for i, c in enumerate(training_dataset.iloc[:, 0].sort_values().unique()):\n",
    "    axs[i].plot(training_dataset[training_dataset.iloc[:, 0] == c].iloc[:, 1:].transpose(), color=\"#AFB8C1\", lw=0.1)\n",
    "    axs[i].set_title(f\"Class {int(c)}\", size=10)\n",
    "    axs[i].set(xlabel=\"Time\", ylabel=\"Value\")\n",
    "    axs[i].xaxis.set_tick_params(labelbottom=True)\n",
    "    axs[i].tick_params(axis=\"both\", which=\"major\", labelsize=7)\n",
    "    axs[i].tick_params(axis=\"both\", which=\"minor\", labelsize=7)\n",
    "fig.suptitle(\"Training Dataset\")\n",
    "fig.tight_layout()\n",
    "fig.subplots_adjust(top=0.9)\n",
    "fig.show()"
   ]
  },
  {
   "cell_type": "markdown",
   "id": "b1986a14-e8e6-4d1d-bb5d-691c504bcaf2",
   "metadata": {},
   "source": [
    "Upload the training data to S3."
   ]
  },
  {
   "cell_type": "code",
   "execution_count": 9,
   "id": "08e16690-4fd2-4f72-a351-b9ff5337a570",
   "metadata": {
    "tags": []
   },
   "outputs": [],
   "source": [
    "training_data = sagemaker_session.upload_string_as_file_body(\n",
    "    body=training_dataset.to_csv(index=False, header=False),\n",
    "    bucket=bucket,\n",
    "    key=\"Wafer_train.csv\"\n",
    ")"
   ]
  },
  {
   "cell_type": "code",
   "execution_count": 10,
   "id": "8e944ce2-c471-4ac0-996b-4ab90dd0a9d4",
   "metadata": {
    "tags": []
   },
   "outputs": [
    {
     "data": {
      "text/plain": [
       "'s3://sagemaker-eu-west-1-661670223746/Wafer_train.csv'"
      ]
     },
     "execution_count": 10,
     "metadata": {},
     "output_type": "execute_result"
    }
   ],
   "source": [
    "training_data"
   ]
  },
  {
   "cell_type": "markdown",
   "id": "e96d4d72-bd13-400c-8e48-92e079709daf",
   "metadata": {
    "tags": []
   },
   "source": [
    "#### 2.2 Test dataset"
   ]
  },
  {
   "cell_type": "markdown",
   "id": "240cd33e-cd63-4311-8df4-deaa780265d1",
   "metadata": {},
   "source": [
    "Load the test data."
   ]
  },
  {
   "cell_type": "code",
   "execution_count": 11,
   "id": "a6512e9d-eeaf-4fd6-89aa-e88824686ece",
   "metadata": {
    "tags": []
   },
   "outputs": [],
   "source": [
    "test_dataset = pd.DataFrame(data=np.genfromtxt(\"Wafer_TEST.txt\"))"
   ]
  },
  {
   "cell_type": "code",
   "execution_count": 12,
   "id": "52245df6-98ed-447a-856e-7c33e4cc0eae",
   "metadata": {
    "tags": []
   },
   "outputs": [
    {
     "data": {
      "text/plain": [
       "(6164, 153)"
      ]
     },
     "execution_count": 12,
     "metadata": {},
     "output_type": "execute_result"
    }
   ],
   "source": [
    "test_dataset.shape"
   ]
  },
  {
   "cell_type": "code",
   "execution_count": 13,
   "id": "8dc7283f-ab05-4b65-a161-4eba62047aab",
   "metadata": {
    "tags": []
   },
   "outputs": [
    {
     "data": {
      "text/html": [
       "<div>\n",
       "<style scoped>\n",
       "    .dataframe tbody tr th:only-of-type {\n",
       "        vertical-align: middle;\n",
       "    }\n",
       "\n",
       "    .dataframe tbody tr th {\n",
       "        vertical-align: top;\n",
       "    }\n",
       "\n",
       "    .dataframe thead th {\n",
       "        text-align: right;\n",
       "    }\n",
       "</style>\n",
       "<table border=\"1\" class=\"dataframe\">\n",
       "  <thead>\n",
       "    <tr style=\"text-align: right;\">\n",
       "      <th></th>\n",
       "      <th>0</th>\n",
       "      <th>1</th>\n",
       "      <th>2</th>\n",
       "      <th>3</th>\n",
       "      <th>4</th>\n",
       "      <th>5</th>\n",
       "      <th>6</th>\n",
       "      <th>7</th>\n",
       "      <th>8</th>\n",
       "      <th>9</th>\n",
       "      <th>...</th>\n",
       "      <th>143</th>\n",
       "      <th>144</th>\n",
       "      <th>145</th>\n",
       "      <th>146</th>\n",
       "      <th>147</th>\n",
       "      <th>148</th>\n",
       "      <th>149</th>\n",
       "      <th>150</th>\n",
       "      <th>151</th>\n",
       "      <th>152</th>\n",
       "    </tr>\n",
       "  </thead>\n",
       "  <tbody>\n",
       "    <tr>\n",
       "      <th>0</th>\n",
       "      <td>1.0</td>\n",
       "      <td>-1.079707</td>\n",
       "      <td>-1.083256</td>\n",
       "      <td>-1.079707</td>\n",
       "      <td>-1.079707</td>\n",
       "      <td>-1.079707</td>\n",
       "      <td>-1.079707</td>\n",
       "      <td>-1.079707</td>\n",
       "      <td>-1.079707</td>\n",
       "      <td>-1.079707</td>\n",
       "      <td>...</td>\n",
       "      <td>-1.079707</td>\n",
       "      <td>-1.079707</td>\n",
       "      <td>-1.079707</td>\n",
       "      <td>-1.079707</td>\n",
       "      <td>-1.079707</td>\n",
       "      <td>-1.079707</td>\n",
       "      <td>-1.079707</td>\n",
       "      <td>-1.079707</td>\n",
       "      <td>-1.079707</td>\n",
       "      <td>-1.079707</td>\n",
       "    </tr>\n",
       "    <tr>\n",
       "      <th>1</th>\n",
       "      <td>1.0</td>\n",
       "      <td>-1.080197</td>\n",
       "      <td>-1.078021</td>\n",
       "      <td>-1.078021</td>\n",
       "      <td>-1.078021</td>\n",
       "      <td>-1.078021</td>\n",
       "      <td>-1.078021</td>\n",
       "      <td>-1.080197</td>\n",
       "      <td>-1.078021</td>\n",
       "      <td>-1.078021</td>\n",
       "      <td>...</td>\n",
       "      <td>-1.110670</td>\n",
       "      <td>-1.112846</td>\n",
       "      <td>-1.115023</td>\n",
       "      <td>-1.117199</td>\n",
       "      <td>-1.119376</td>\n",
       "      <td>-1.121553</td>\n",
       "      <td>-1.123729</td>\n",
       "      <td>-1.125906</td>\n",
       "      <td>-1.128082</td>\n",
       "      <td>-1.130259</td>\n",
       "    </tr>\n",
       "    <tr>\n",
       "      <th>2</th>\n",
       "      <td>1.0</td>\n",
       "      <td>-1.154060</td>\n",
       "      <td>-1.154060</td>\n",
       "      <td>-1.154060</td>\n",
       "      <td>-1.154060</td>\n",
       "      <td>-1.154060</td>\n",
       "      <td>-1.154060</td>\n",
       "      <td>-1.154060</td>\n",
       "      <td>-1.154060</td>\n",
       "      <td>-1.154060</td>\n",
       "      <td>...</td>\n",
       "      <td>-1.154060</td>\n",
       "      <td>-1.154060</td>\n",
       "      <td>-1.154060</td>\n",
       "      <td>-1.154060</td>\n",
       "      <td>-1.154060</td>\n",
       "      <td>-1.154060</td>\n",
       "      <td>-1.154060</td>\n",
       "      <td>-1.154060</td>\n",
       "      <td>-1.154060</td>\n",
       "      <td>-1.154060</td>\n",
       "    </tr>\n",
       "    <tr>\n",
       "      <th>3</th>\n",
       "      <td>1.0</td>\n",
       "      <td>-1.658965</td>\n",
       "      <td>-1.696605</td>\n",
       "      <td>-1.705291</td>\n",
       "      <td>-1.711082</td>\n",
       "      <td>-1.711082</td>\n",
       "      <td>-1.715425</td>\n",
       "      <td>-1.715425</td>\n",
       "      <td>-1.715425</td>\n",
       "      <td>-1.715425</td>\n",
       "      <td>...</td>\n",
       "      <td>-1.149382</td>\n",
       "      <td>-1.149382</td>\n",
       "      <td>-1.149382</td>\n",
       "      <td>-1.149382</td>\n",
       "      <td>-1.149382</td>\n",
       "      <td>-1.149382</td>\n",
       "      <td>-1.149382</td>\n",
       "      <td>-1.149382</td>\n",
       "      <td>-1.149382</td>\n",
       "      <td>-1.149382</td>\n",
       "    </tr>\n",
       "    <tr>\n",
       "      <th>4</th>\n",
       "      <td>1.0</td>\n",
       "      <td>-1.201221</td>\n",
       "      <td>-1.199042</td>\n",
       "      <td>-1.199042</td>\n",
       "      <td>-1.201221</td>\n",
       "      <td>-1.199042</td>\n",
       "      <td>-1.199042</td>\n",
       "      <td>-1.199042</td>\n",
       "      <td>-1.199042</td>\n",
       "      <td>-1.199042</td>\n",
       "      <td>...</td>\n",
       "      <td>-1.185968</td>\n",
       "      <td>-1.183789</td>\n",
       "      <td>-1.181610</td>\n",
       "      <td>-1.179431</td>\n",
       "      <td>-1.177251</td>\n",
       "      <td>-1.175072</td>\n",
       "      <td>-1.172893</td>\n",
       "      <td>-1.170714</td>\n",
       "      <td>-1.168535</td>\n",
       "      <td>-1.166356</td>\n",
       "    </tr>\n",
       "  </tbody>\n",
       "</table>\n",
       "<p>5 rows × 153 columns</p>\n",
       "</div>"
      ],
      "text/plain": [
       "   0         1         2         3         4         5         6         7    \\\n",
       "0  1.0 -1.079707 -1.083256 -1.079707 -1.079707 -1.079707 -1.079707 -1.079707   \n",
       "1  1.0 -1.080197 -1.078021 -1.078021 -1.078021 -1.078021 -1.078021 -1.080197   \n",
       "2  1.0 -1.154060 -1.154060 -1.154060 -1.154060 -1.154060 -1.154060 -1.154060   \n",
       "3  1.0 -1.658965 -1.696605 -1.705291 -1.711082 -1.711082 -1.715425 -1.715425   \n",
       "4  1.0 -1.201221 -1.199042 -1.199042 -1.201221 -1.199042 -1.199042 -1.199042   \n",
       "\n",
       "        8         9    ...       143       144       145       146       147  \\\n",
       "0 -1.079707 -1.079707  ... -1.079707 -1.079707 -1.079707 -1.079707 -1.079707   \n",
       "1 -1.078021 -1.078021  ... -1.110670 -1.112846 -1.115023 -1.117199 -1.119376   \n",
       "2 -1.154060 -1.154060  ... -1.154060 -1.154060 -1.154060 -1.154060 -1.154060   \n",
       "3 -1.715425 -1.715425  ... -1.149382 -1.149382 -1.149382 -1.149382 -1.149382   \n",
       "4 -1.199042 -1.199042  ... -1.185968 -1.183789 -1.181610 -1.179431 -1.177251   \n",
       "\n",
       "        148       149       150       151       152  \n",
       "0 -1.079707 -1.079707 -1.079707 -1.079707 -1.079707  \n",
       "1 -1.121553 -1.123729 -1.125906 -1.128082 -1.130259  \n",
       "2 -1.154060 -1.154060 -1.154060 -1.154060 -1.154060  \n",
       "3 -1.149382 -1.149382 -1.149382 -1.149382 -1.149382  \n",
       "4 -1.175072 -1.172893 -1.170714 -1.168535 -1.166356  \n",
       "\n",
       "[5 rows x 153 columns]"
      ]
     },
     "execution_count": 13,
     "metadata": {},
     "output_type": "execute_result"
    }
   ],
   "source": [
    "test_dataset.head()"
   ]
  },
  {
   "cell_type": "code",
   "execution_count": 14,
   "id": "45d5c264-17c1-485f-97cb-15801b5e444b",
   "metadata": {
    "tags": []
   },
   "outputs": [
    {
     "data": {
      "text/plain": [
       "array([-1.,  1.])"
      ]
     },
     "execution_count": 14,
     "metadata": {},
     "output_type": "execute_result"
    }
   ],
   "source": [
    "test_dataset.iloc[:, 0].sort_values().unique()"
   ]
  },
  {
   "cell_type": "code",
   "execution_count": 15,
   "id": "43958169-55ab-43db-8047-26d411a2829f",
   "metadata": {
    "tags": []
   },
   "outputs": [
    {
     "data": {
      "text/plain": [
       "-1.0     665\n",
       " 1.0    5499\n",
       "Name: count, dtype: int64"
      ]
     },
     "execution_count": 15,
     "metadata": {},
     "output_type": "execute_result"
    }
   ],
   "source": [
    "test_dataset.iloc[:, 0].rename(None).value_counts().sort_index()"
   ]
  },
  {
   "cell_type": "markdown",
   "id": "6c4d3948-0998-40c5-9a18-b1b2a1fe203a",
   "metadata": {},
   "source": [
    "Visualize the test data."
   ]
  },
  {
   "cell_type": "code",
   "execution_count": 16,
   "id": "a26d0050-e2d0-40d7-93b5-794415618567",
   "metadata": {
    "tags": []
   },
   "outputs": [
    {
     "data": {
      "image/png": "[encoded data removed]",
      "text/plain": [
       "<Figure size 600x600 with 2 Axes>"
      ]
     },
     "metadata": {},
     "output_type": "display_data"
    }
   ],
   "source": [
    "fig, axs = plt.subplots(nrows=test_dataset.iloc[:, 0].nunique(), ncols=1, sharex=True, figsize=(6, 6))\n",
    "for i, c in enumerate(test_dataset.iloc[:, 0].sort_values().unique()):\n",
    "    axs[i].plot(test_dataset[test_dataset.iloc[:, 0] == c].iloc[:, 1:].transpose(), color=\"#AFB8C1\", lw=0.1)\n",
    "    axs[i].set_title(f\"Class {int(c)}\", size=10)\n",
    "    axs[i].set(xlabel=\"Time\", ylabel=\"Value\")\n",
    "    axs[i].xaxis.set_tick_params(labelbottom=True)\n",
    "    axs[i].tick_params(axis=\"both\", which=\"major\", labelsize=7)\n",
    "    axs[i].tick_params(axis=\"both\", which=\"minor\", labelsize=7)\n",
    "fig.suptitle(\"Test Dataset\")\n",
    "fig.tight_layout()\n",
    "fig.subplots_adjust(top=0.9)\n",
    "fig.show()"
   ]
  },
  {
   "cell_type": "markdown",
   "id": "390bf13f-04c8-43b6-b638-2265cafff639",
   "metadata": {
    "tags": []
   },
   "source": [
    "### 3. Training"
   ]
  },
  {
   "cell_type": "markdown",
   "id": "fa110134-5bfa-4c17-80c8-9ef3aa78024d",
   "metadata": {},
   "source": [
    "Fit the model to the training data."
   ]
  },
  {
   "cell_type": "code",
   "execution_count": 17,
   "id": "625a1bdb-c6be-4144-9ba1-5a1d97c2fb12",
   "metadata": {
    "tags": []
   },
   "outputs": [
    {
     "name": "stderr",
     "output_type": "stream",
     "text": [
      "INFO:sagemaker:Creating training-job with name: inception-time-v1-7-2023-12-19-15-17-52-996\n"
     ]
    },
    {
     "name": "stdout",
     "output_type": "stream",
     "text": [
      "2023-12-19 15:17:53 Starting - Starting the training job...\n",
      "2023-12-19 15:18:08 Starting - Preparing the instances for training......\n",
      "2023-12-19 15:19:06 Downloading - Downloading input data...\n",
      "2023-12-19 15:19:26 Downloading - Downloading the training image...............\n",
      "2023-12-19 15:22:07 Training - Training image download completed. Training in progress..\u001b[34mbash: cannot set terminal process group (-1): Inappropriate ioctl for device\u001b[0m\n",
      "\u001b[34mbash: no job control in this shell\u001b[0m\n",
      "\u001b[34m2023-12-19 15:22:28,409 sagemaker-training-toolkit INFO     Imported framework sagemaker_pytorch_container.training\u001b[0m\n",
      "\u001b[34m2023-12-19 15:22:28,410 sagemaker-training-toolkit INFO     No GPUs detected (normal if no gpus installed)\u001b[0m\n",
      "\u001b[34m2023-12-19 15:22:28,411 sagemaker-training-toolkit INFO     No Neurons detected (normal if no neurons installed)\u001b[0m\n",
      "\u001b[34m2023-12-19 15:22:28,422 sagemaker_pytorch_container.training INFO     Block until all host DNS lookups succeed.\u001b[0m\n",
      "\u001b[34m2023-12-19 15:22:28,424 sagemaker_pytorch_container.training INFO     Invoking user training script.\u001b[0m\n",
      "\u001b[34m2023-12-19 15:22:29,974 sagemaker-training-toolkit INFO     No GPUs detected (normal if no gpus installed)\u001b[0m\n",
      "\u001b[34m2023-12-19 15:22:29,975 sagemaker-training-toolkit INFO     No Neurons detected (normal if no neurons installed)\u001b[0m\n",
      "\u001b[34m2023-12-19 15:22:29,988 sagemaker-training-toolkit INFO     No GPUs detected (normal if no gpus installed)\u001b[0m\n",
      "\u001b[34m2023-12-19 15:22:29,989 sagemaker-training-toolkit INFO     No Neurons detected (normal if no neurons installed)\u001b[0m\n",
      "\u001b[34m2023-12-19 15:22:30,000 sagemaker-training-toolkit INFO     No GPUs detected (normal if no gpus installed)\u001b[0m\n",
      "\u001b[34m2023-12-19 15:22:30,001 sagemaker-training-toolkit INFO     No Neurons detected (normal if no neurons installed)\u001b[0m\n",
      "\u001b[34m2023-12-19 15:22:30,013 sagemaker-training-toolkit INFO     Invoking user script\u001b[0m\n",
      "\u001b[34mTraining Env:\u001b[0m\n",
      "\u001b[34m{\n",
      "    \"additional_framework_parameters\": {},\n",
      "    \"channel_input_dirs\": {\n",
      "        \"training\": \"/opt/ml/input/data/training\"\n",
      "    },\n",
      "    \"current_host\": \"algo-1\",\n",
      "    \"current_instance_group\": \"homogeneousCluster\",\n",
      "    \"current_instance_group_hosts\": [\n",
      "        \"algo-1\"\n",
      "    ],\n",
      "    \"current_instance_type\": \"ml.m5.2xlarge\",\n",
      "    \"distribution_hosts\": [],\n",
      "    \"distribution_instance_groups\": [],\n",
      "    \"framework_module\": \"sagemaker_pytorch_container.training:main\",\n",
      "    \"hosts\": [\n",
      "        \"algo-1\"\n",
      "    ],\n",
      "    \"hyperparameters\": {\n",
      "        \"batch-size\": 64,\n",
      "        \"depth\": 6,\n",
      "        \"epochs\": 20,\n",
      "        \"filters\": 32,\n",
      "        \"lr\": 0.0001,\n",
      "        \"lr-decay\": 1.0,\n",
      "        \"models\": 5\n",
      "    },\n",
      "    \"input_config_dir\": \"/opt/ml/input/config\",\n",
      "    \"input_data_config\": {\n",
      "        \"training\": {\n",
      "            \"TrainingInputMode\": \"File\",\n",
      "            \"S3DistributionType\": \"FullyReplicated\",\n",
      "            \"RecordWrapperType\": \"None\"\n",
      "        }\n",
      "    },\n",
      "    \"input_dir\": \"/opt/ml/input\",\n",
      "    \"instance_groups\": [\n",
      "        \"homogeneousCluster\"\n",
      "    ],\n",
      "    \"instance_groups_dict\": {\n",
      "        \"homogeneousCluster\": {\n",
      "            \"instance_group_name\": \"homogeneousCluster\",\n",
      "            \"instance_type\": \"ml.m5.2xlarge\",\n",
      "            \"hosts\": [\n",
      "                \"algo-1\"\n",
      "            ]\n",
      "        }\n",
      "    },\n",
      "    \"is_hetero\": false,\n",
      "    \"is_master\": true,\n",
      "    \"is_modelparallel_enabled\": null,\n",
      "    \"is_smddpmprun_installed\": false,\n",
      "    \"is_smddprun_installed\": false,\n",
      "    \"job_name\": \"inception-time-v1-7-2023-12-19-15-17-52-996\",\n",
      "    \"log_level\": 20,\n",
      "    \"master_hostname\": \"algo-1\",\n",
      "    \"model_dir\": \"/opt/ml/model\",\n",
      "    \"module_dir\": \"/opt/ml/code\",\n",
      "    \"module_name\": \"training\",\n",
      "    \"network_interface_name\": \"eth0\",\n",
      "    \"num_cpus\": 8,\n",
      "    \"num_gpus\": 0,\n",
      "    \"num_neurons\": 0,\n",
      "    \"output_data_dir\": \"/opt/ml/output/data\",\n",
      "    \"output_dir\": \"/opt/ml/output\",\n",
      "    \"output_intermediate_dir\": \"/opt/ml/output/intermediate\",\n",
      "    \"resource_config\": {\n",
      "        \"current_host\": \"algo-1\",\n",
      "        \"current_instance_type\": \"ml.m5.2xlarge\",\n",
      "        \"current_group_name\": \"homogeneousCluster\",\n",
      "        \"hosts\": [\n",
      "            \"algo-1\"\n",
      "        ],\n",
      "        \"instance_groups\": [\n",
      "            {\n",
      "                \"instance_group_name\": \"homogeneousCluster\",\n",
      "                \"instance_type\": \"ml.m5.2xlarge\",\n",
      "                \"hosts\": [\n",
      "                    \"algo-1\"\n",
      "                ]\n",
      "            }\n",
      "        ],\n",
      "        \"network_interface_name\": \"eth0\"\n",
      "    },\n",
      "    \"user_entry_point\": \"training.py\"\u001b[0m\n",
      "\u001b[34m}\u001b[0m\n",
      "\u001b[34mEnvironment variables:\u001b[0m\n",
      "\u001b[34mSM_HOSTS=[\"algo-1\"]\u001b[0m\n",
      "\u001b[34mSM_NETWORK_INTERFACE_NAME=eth0\u001b[0m\n",
      "\u001b[34mSM_HPS={\"batch-size\":64,\"depth\":6,\"epochs\":20,\"filters\":32,\"lr\":0.0001,\"lr-decay\":1.0,\"models\":5}\u001b[0m\n",
      "\u001b[34mSM_USER_ENTRY_POINT=training.py\u001b[0m\n",
      "\u001b[34mSM_FRAMEWORK_PARAMS={}\u001b[0m\n",
      "\u001b[34mSM_RESOURCE_CONFIG={\"current_group_name\":\"homogeneousCluster\",\"current_host\":\"algo-1\",\"current_instance_type\":\"ml.m5.2xlarge\",\"hosts\":[\"algo-1\"],\"instance_groups\":[{\"hosts\":[\"algo-1\"],\"instance_group_name\":\"homogeneousCluster\",\"instance_type\":\"ml.m5.2xlarge\"}],\"network_interface_name\":\"eth0\"}\u001b[0m\n",
      "\u001b[34mSM_INPUT_DATA_CONFIG={\"training\":{\"RecordWrapperType\":\"None\",\"S3DistributionType\":\"FullyReplicated\",\"TrainingInputMode\":\"File\"}}\u001b[0m\n",
      "\u001b[34mSM_OUTPUT_DATA_DIR=/opt/ml/output/data\u001b[0m\n",
      "\u001b[34mSM_CHANNELS=[\"training\"]\u001b[0m\n",
      "\u001b[34mSM_CURRENT_HOST=algo-1\u001b[0m\n",
      "\u001b[34mSM_CURRENT_INSTANCE_TYPE=ml.m5.2xlarge\u001b[0m\n",
      "\u001b[34mSM_CURRENT_INSTANCE_GROUP=homogeneousCluster\u001b[0m\n",
      "\u001b[34mSM_CURRENT_INSTANCE_GROUP_HOSTS=[\"algo-1\"]\u001b[0m\n",
      "\u001b[34mSM_INSTANCE_GROUPS=[\"homogeneousCluster\"]\u001b[0m\n",
      "\u001b[34mSM_INSTANCE_GROUPS_DICT={\"homogeneousCluster\":{\"hosts\":[\"algo-1\"],\"instance_group_name\":\"homogeneousCluster\",\"instance_type\":\"ml.m5.2xlarge\"}}\u001b[0m\n",
      "\u001b[34mSM_DISTRIBUTION_INSTANCE_GROUPS=[]\u001b[0m\n",
      "\u001b[34mSM_IS_HETERO=false\u001b[0m\n",
      "\u001b[34mSM_MODULE_NAME=training\u001b[0m\n",
      "\u001b[34mSM_LOG_LEVEL=20\u001b[0m\n",
      "\u001b[34mSM_FRAMEWORK_MODULE=sagemaker_pytorch_container.training:main\u001b[0m\n",
      "\u001b[34mSM_INPUT_DIR=/opt/ml/input\u001b[0m\n",
      "\u001b[34mSM_INPUT_CONFIG_DIR=/opt/ml/input/config\u001b[0m\n",
      "\u001b[34mSM_OUTPUT_DIR=/opt/ml/output\u001b[0m\n",
      "\u001b[34mSM_NUM_CPUS=8\u001b[0m\n",
      "\u001b[34mSM_NUM_GPUS=0\u001b[0m\n",
      "\u001b[34mSM_NUM_NEURONS=0\u001b[0m\n",
      "\u001b[34mSM_MODEL_DIR=/opt/ml/model\u001b[0m\n",
      "\u001b[34mSM_MODULE_DIR=/opt/ml/code\u001b[0m\n",
      "\u001b[34mSM_TRAINING_ENV={\"additional_framework_parameters\":{},\"channel_input_dirs\":{\"training\":\"/opt/ml/input/data/training\"},\"current_host\":\"algo-1\",\"current_instance_group\":\"homogeneousCluster\",\"current_instance_group_hosts\":[\"algo-1\"],\"current_instance_type\":\"ml.m5.2xlarge\",\"distribution_hosts\":[],\"distribution_instance_groups\":[],\"framework_module\":\"sagemaker_pytorch_container.training:main\",\"hosts\":[\"algo-1\"],\"hyperparameters\":{\"batch-size\":64,\"depth\":6,\"epochs\":20,\"filters\":32,\"lr\":0.0001,\"lr-decay\":1.0,\"models\":5},\"input_config_dir\":\"/opt/ml/input/config\",\"input_data_config\":{\"training\":{\"RecordWrapperType\":\"None\",\"S3DistributionType\":\"FullyReplicated\",\"TrainingInputMode\":\"File\"}},\"input_dir\":\"/opt/ml/input\",\"instance_groups\":[\"homogeneousCluster\"],\"instance_groups_dict\":{\"homogeneousCluster\":{\"hosts\":[\"algo-1\"],\"instance_group_name\":\"homogeneousCluster\",\"instance_type\":\"ml.m5.2xlarge\"}},\"is_hetero\":false,\"is_master\":true,\"is_modelparallel_enabled\":null,\"is_smddpmprun_installed\":false,\"is_smddprun_installed\":false,\"job_name\":\"inception-time-v1-7-2023-12-19-15-17-52-996\",\"log_level\":20,\"master_hostname\":\"algo-1\",\"model_dir\":\"/opt/ml/model\",\"module_dir\":\"/opt/ml/code\",\"module_name\":\"training\",\"network_interface_name\":\"eth0\",\"num_cpus\":8,\"num_gpus\":0,\"num_neurons\":0,\"output_data_dir\":\"/opt/ml/output/data\",\"output_dir\":\"/opt/ml/output\",\"output_intermediate_dir\":\"/opt/ml/output/intermediate\",\"resource_config\":{\"current_group_name\":\"homogeneousCluster\",\"current_host\":\"algo-1\",\"current_instance_type\":\"ml.m5.2xlarge\",\"hosts\":[\"algo-1\"],\"instance_groups\":[{\"hosts\":[\"algo-1\"],\"instance_group_name\":\"homogeneousCluster\",\"instance_type\":\"ml.m5.2xlarge\"}],\"network_interface_name\":\"eth0\"},\"user_entry_point\":\"training.py\"}\u001b[0m\n",
      "\u001b[34mSM_USER_ARGS=[\"--batch-size\",\"64\",\"--depth\",\"6\",\"--epochs\",\"20\",\"--filters\",\"32\",\"--lr\",\"0.0001\",\"--lr-decay\",\"1.0\",\"--models\",\"5\"]\u001b[0m\n",
      "\u001b[34mSM_OUTPUT_INTERMEDIATE_DIR=/opt/ml/output/intermediate\u001b[0m\n",
      "\u001b[34mSM_CHANNEL_TRAINING=/opt/ml/input/data/training\u001b[0m\n",
      "\u001b[34mSM_HP_BATCH-SIZE=64\u001b[0m\n",
      "\u001b[34mSM_HP_DEPTH=6\u001b[0m\n",
      "\u001b[34mSM_HP_EPOCHS=20\u001b[0m\n",
      "\u001b[34mSM_HP_FILTERS=32\u001b[0m\n",
      "\u001b[34mSM_HP_LR=0.0001\u001b[0m\n",
      "\u001b[34mSM_HP_LR-DECAY=1.0\u001b[0m\n",
      "\u001b[34mSM_HP_MODELS=5\u001b[0m\n",
      "\u001b[34mPYTHONPATH=/opt/ml/code:/opt/conda/bin:/opt/conda/lib/python310.zip:/opt/conda/lib/python3.10:/opt/conda/lib/python3.10/lib-dynload:/opt/conda/lib/python3.10/site-packages\u001b[0m\n",
      "\u001b[34mInvoking script with the following command:\u001b[0m\n",
      "\u001b[34m/opt/conda/bin/python3.10 training.py --batch-size 64 --depth 6 --epochs 20 --filters 32 --lr 0.0001 --lr-decay 1.0 --models 5\u001b[0m\n",
      "\u001b[34m2023-12-19 15:22:30,014 sagemaker-training-toolkit INFO     Exceptions not imported for SageMaker Debugger as it is not installed.\u001b[0m\n",
      "\u001b[34m2023-12-19 15:22:30,014 sagemaker-training-toolkit INFO     Exceptions not imported for SageMaker TF as Tensorflow is not installed.\u001b[0m\n",
      "\u001b[34m--------------------------------------\u001b[0m\n",
      "\u001b[34mTraining on 1000 time series.\u001b[0m\n",
      "\u001b[34mTime series length: 152\u001b[0m\n",
      "\u001b[34mTime series labels: [-1, 1]\u001b[0m\n",
      "\u001b[34m--------------------------------------\u001b[0m\n",
      "\u001b[34m--------------------------------------\u001b[0m\n",
      "\u001b[34mBuilding the models.\u001b[0m\n",
      "\u001b[34mNumber of models: 5\u001b[0m\n",
      "\u001b[34mNumber of parameters of each model: 490226\u001b[0m\n",
      "\u001b[34m--------------------------------------\u001b[0m\n",
      "\u001b[34m--------------------------------------\u001b[0m\n",
      "\u001b[34mTraining model 1 on CPU.\u001b[0m\n",
      "\u001b[34mepoch: 1 train_loss: 0.00987940 train_accuracy: 0.90300000\u001b[0m\n",
      "\u001b[34mepoch: 2 train_loss: 0.00533256 train_accuracy: 0.96000000\u001b[0m\n",
      "\u001b[34mepoch: 3 train_loss: 0.00278125 train_accuracy: 0.99100000\u001b[0m\n",
      "\u001b[34mepoch: 4 train_loss: 0.00345716 train_accuracy: 0.97100000\u001b[0m\n",
      "\u001b[34mepoch: 5 train_loss: 0.00223302 train_accuracy: 0.98500000\u001b[0m\n",
      "\u001b[34mepoch: 6 train_loss: 0.00115723 train_accuracy: 0.99600000\u001b[0m\n",
      "\u001b[34mepoch: 7 train_loss: 0.00108177 train_accuracy: 0.99800000\u001b[0m\n",
      "\u001b[34mepoch: 8 train_loss: 0.00152299 train_accuracy: 0.99100000\u001b[0m\n",
      "\u001b[34mepoch: 9 train_loss: 0.00159031 train_accuracy: 0.99100000\u001b[0m\n",
      "\u001b[34mepoch: 10 train_loss: 0.00089181 train_accuracy: 0.99500000\u001b[0m\n",
      "\u001b[34mepoch: 11 train_loss: 0.00049048 train_accuracy: 0.99900000\u001b[0m\n",
      "\u001b[34mepoch: 12 train_loss: 0.00076450 train_accuracy: 0.99600000\u001b[0m\n",
      "\u001b[34mepoch: 13 train_loss: 0.00158910 train_accuracy: 0.99000000\u001b[0m\n",
      "\u001b[34mepoch: 14 train_loss: 0.00049460 train_accuracy: 0.99900000\u001b[0m\n",
      "\u001b[34mepoch: 15 train_loss: 0.00046130 train_accuracy: 1.00000000\u001b[0m\n",
      "\u001b[34mepoch: 16 train_loss: 0.00074196 train_accuracy: 0.99500000\u001b[0m\n",
      "\u001b[34mepoch: 17 train_loss: 0.00041233 train_accuracy: 0.99900000\u001b[0m\n",
      "\u001b[34mepoch: 18 train_loss: 0.00040451 train_accuracy: 0.99900000\u001b[0m\n",
      "\u001b[34mepoch: 19 train_loss: 0.00029265 train_accuracy: 1.00000000\u001b[0m\n",
      "\u001b[34mepoch: 20 train_loss: 0.00030564 train_accuracy: 1.00000000\u001b[0m\n",
      "\u001b[34m--------------------------------------\u001b[0m\n",
      "\u001b[34mTraining model 2 on CPU.\u001b[0m\n",
      "\u001b[34mepoch: 1 train_loss: 0.00885441 train_accuracy: 0.90300000\u001b[0m\n",
      "\u001b[34mepoch: 2 train_loss: 0.00500261 train_accuracy: 0.97300000\u001b[0m\n",
      "\u001b[34mepoch: 3 train_loss: 0.00233542 train_accuracy: 0.98600000\u001b[0m\n",
      "\u001b[34mepoch: 4 train_loss: 0.00267035 train_accuracy: 0.98200000\u001b[0m\n",
      "\u001b[34mepoch: 5 train_loss: 0.00082408 train_accuracy: 0.99700000\u001b[0m\n",
      "\u001b[34mepoch: 6 train_loss: 0.00115129 train_accuracy: 0.99600000\u001b[0m\n",
      "\u001b[34mepoch: 7 train_loss: 0.00058221 train_accuracy: 1.00000000\u001b[0m\n",
      "\u001b[34mepoch: 8 train_loss: 0.00075812 train_accuracy: 0.99500000\u001b[0m\n",
      "\u001b[34mepoch: 9 train_loss: 0.00062096 train_accuracy: 0.99700000\u001b[0m\n",
      "\u001b[34mepoch: 10 train_loss: 0.00064041 train_accuracy: 0.99600000\u001b[0m\n",
      "\u001b[34mepoch: 11 train_loss: 0.00037069 train_accuracy: 0.99900000\u001b[0m\n",
      "\u001b[34mepoch: 12 train_loss: 0.00033020 train_accuracy: 0.99900000\u001b[0m\n",
      "\u001b[34mepoch: 13 train_loss: 0.00041936 train_accuracy: 0.99700000\u001b[0m\n",
      "\u001b[34mepoch: 14 train_loss: 0.00263054 train_accuracy: 0.96200000\u001b[0m\n",
      "\u001b[34mepoch: 15 train_loss: 0.00027413 train_accuracy: 1.00000000\u001b[0m\n",
      "\u001b[34mepoch: 16 train_loss: 0.00046153 train_accuracy: 0.99200000\u001b[0m\n",
      "\u001b[34mepoch: 17 train_loss: 0.00078046 train_accuracy: 0.99300000\u001b[0m\n",
      "\u001b[34mepoch: 18 train_loss: 0.00021736 train_accuracy: 1.00000000\u001b[0m\n",
      "\u001b[34mepoch: 19 train_loss: 0.00020674 train_accuracy: 0.99900000\u001b[0m\n",
      "\u001b[34mepoch: 20 train_loss: 0.00017717 train_accuracy: 1.00000000\u001b[0m\n",
      "\u001b[34m--------------------------------------\u001b[0m\n",
      "\u001b[34mTraining model 3 on CPU.\u001b[0m\n",
      "\u001b[34mepoch: 1 train_loss: 0.00887155 train_accuracy: 0.90300000\u001b[0m\n",
      "\u001b[34mepoch: 2 train_loss: 0.00494961 train_accuracy: 0.97600000\u001b[0m\n",
      "\u001b[34mepoch: 3 train_loss: 0.00237293 train_accuracy: 0.99000000\u001b[0m\n",
      "\u001b[34mepoch: 4 train_loss: 0.00203644 train_accuracy: 0.98700000\u001b[0m\n",
      "\u001b[34mepoch: 5 train_loss: 0.00213062 train_accuracy: 0.98200000\u001b[0m\n",
      "\u001b[34mepoch: 6 train_loss: 0.00087021 train_accuracy: 1.00000000\u001b[0m\n",
      "\u001b[34mepoch: 7 train_loss: 0.00084806 train_accuracy: 0.99800000\u001b[0m\n",
      "\u001b[34mepoch: 8 train_loss: 0.00083340 train_accuracy: 0.99500000\u001b[0m\n",
      "\u001b[34mepoch: 9 train_loss: 0.00088122 train_accuracy: 0.99400000\u001b[0m\n",
      "\u001b[34mepoch: 10 train_loss: 0.00058148 train_accuracy: 0.99900000\u001b[0m\n",
      "\u001b[34mepoch: 11 train_loss: 0.00038854 train_accuracy: 0.99900000\u001b[0m\n",
      "\u001b[34mepoch: 12 train_loss: 0.00034727 train_accuracy: 1.00000000\u001b[0m\n",
      "\u001b[34mepoch: 13 train_loss: 0.00085904 train_accuracy: 0.99200000\u001b[0m\n",
      "\u001b[34mepoch: 14 train_loss: 0.00779076 train_accuracy: 0.80500000\u001b[0m\n",
      "\u001b[34mepoch: 15 train_loss: 0.00036593 train_accuracy: 1.00000000\u001b[0m\n",
      "\u001b[34mepoch: 16 train_loss: 0.00067407 train_accuracy: 0.99600000\u001b[0m\n",
      "\u001b[34mepoch: 17 train_loss: 0.00081351 train_accuracy: 0.99300000\u001b[0m\n",
      "\u001b[34mepoch: 18 train_loss: 0.00028172 train_accuracy: 1.00000000\u001b[0m\n",
      "\u001b[34mepoch: 19 train_loss: 0.00023925 train_accuracy: 0.99900000\u001b[0m\n",
      "\u001b[34mepoch: 20 train_loss: 0.00023375 train_accuracy: 1.00000000\u001b[0m\n",
      "\u001b[34m--------------------------------------\u001b[0m\n",
      "\u001b[34mTraining model 4 on CPU.\u001b[0m\n",
      "\u001b[34mepoch: 1 train_loss: 0.01131914 train_accuracy: 0.10100000\u001b[0m\n",
      "\u001b[34mepoch: 2 train_loss: 0.00631476 train_accuracy: 0.98600000\u001b[0m\n",
      "\u001b[34mepoch: 3 train_loss: 0.00263628 train_accuracy: 0.99300000\u001b[0m\n",
      "\u001b[34mepoch: 4 train_loss: 0.00186905 train_accuracy: 0.99300000\u001b[0m\n",
      "\u001b[34mepoch: 5 train_loss: 0.00146810 train_accuracy: 0.99300000\u001b[0m\n",
      "\u001b[34mepoch: 6 train_loss: 0.00095621 train_accuracy: 0.99800000\u001b[0m\n",
      "\u001b[34mepoch: 7 train_loss: 0.00073441 train_accuracy: 0.99900000\u001b[0m\n",
      "\u001b[34mepoch: 8 train_loss: 0.00086774 train_accuracy: 0.99600000\u001b[0m\n",
      "\u001b[34mepoch: 9 train_loss: 0.00164450 train_accuracy: 0.98800000\u001b[0m\n",
      "\u001b[34mepoch: 10 train_loss: 0.00048706 train_accuracy: 0.99900000\u001b[0m\n",
      "\u001b[34mepoch: 11 train_loss: 0.00036704 train_accuracy: 1.00000000\u001b[0m\n",
      "\u001b[34mepoch: 12 train_loss: 0.00037200 train_accuracy: 1.00000000\u001b[0m\n",
      "\u001b[34mepoch: 13 train_loss: 0.00080653 train_accuracy: 0.99500000\u001b[0m\n",
      "\u001b[34mepoch: 14 train_loss: 0.00681076 train_accuracy: 0.81200000\u001b[0m\n",
      "\u001b[34mepoch: 15 train_loss: 0.00029969 train_accuracy: 1.00000000\u001b[0m\n",
      "\u001b[34mepoch: 16 train_loss: 0.00029789 train_accuracy: 0.99800000\u001b[0m\n",
      "\u001b[34mepoch: 17 train_loss: 0.00041600 train_accuracy: 0.99800000\u001b[0m\n",
      "\u001b[34mepoch: 18 train_loss: 0.00026817 train_accuracy: 1.00000000\u001b[0m\n",
      "\u001b[34mepoch: 19 train_loss: 0.00020111 train_accuracy: 0.99900000\u001b[0m\n",
      "\u001b[34mepoch: 20 train_loss: 0.00022853 train_accuracy: 1.00000000\u001b[0m\n",
      "\u001b[34m--------------------------------------\u001b[0m\n",
      "\u001b[34mTraining model 5 on CPU.\u001b[0m\n",
      "\u001b[34mepoch: 1 train_loss: 0.00888397 train_accuracy: 0.90300000\u001b[0m\n",
      "\u001b[34mepoch: 2 train_loss: 0.00470761 train_accuracy: 0.97000000\u001b[0m\n",
      "\u001b[34mepoch: 3 train_loss: 0.00235113 train_accuracy: 0.99100000\u001b[0m\n",
      "\u001b[34mepoch: 4 train_loss: 0.00202377 train_accuracy: 0.98900000\u001b[0m\n",
      "\u001b[34mepoch: 5 train_loss: 0.00181634 train_accuracy: 0.98500000\u001b[0m\n",
      "\u001b[34mepoch: 6 train_loss: 0.00104285 train_accuracy: 0.99500000\u001b[0m\n",
      "\u001b[34mepoch: 7 train_loss: 0.00070299 train_accuracy: 0.99800000\u001b[0m\n",
      "\u001b[34mepoch: 8 train_loss: 0.00090976 train_accuracy: 0.99400000\u001b[0m\n",
      "\u001b[34mepoch: 9 train_loss: 0.00148307 train_accuracy: 0.98900000\u001b[0m\n",
      "\u001b[34mepoch: 10 train_loss: 0.00065619 train_accuracy: 0.99700000\u001b[0m\n",
      "\u001b[34mepoch: 11 train_loss: 0.00030826 train_accuracy: 0.99900000\u001b[0m\n",
      "\u001b[34mepoch: 12 train_loss: 0.00058431 train_accuracy: 0.99500000\u001b[0m\n",
      "\u001b[34mepoch: 13 train_loss: 0.00055759 train_accuracy: 0.99600000\u001b[0m\n",
      "\u001b[34mepoch: 14 train_loss: 0.00067463 train_accuracy: 0.99500000\u001b[0m\n",
      "\u001b[34mepoch: 15 train_loss: 0.00047509 train_accuracy: 0.99800000\u001b[0m\n",
      "\u001b[34mepoch: 16 train_loss: 0.00037685 train_accuracy: 0.99800000\u001b[0m\n",
      "\u001b[34mepoch: 17 train_loss: 0.00050088 train_accuracy: 0.99500000\u001b[0m\n",
      "\u001b[34mepoch: 18 train_loss: 0.00031815 train_accuracy: 0.99900000\u001b[0m\n",
      "\u001b[34mepoch: 19 train_loss: 0.00022517 train_accuracy: 0.99900000\u001b[0m\n",
      "\u001b[34mepoch: 20 train_loss: 0.00025204 train_accuracy: 1.00000000\u001b[0m\n",
      "\u001b[34m--------------------------------------\u001b[0m\n",
      "\u001b[34mScoring the model.\u001b[0m\n",
      "\n",
      "2023-12-19 15:33:05 Uploading - Uploading generated training model\u001b[34mtrain:loss 0.01498261\u001b[0m\n",
      "\u001b[34mtrain:acc 1.00000000\u001b[0m\n",
      "\u001b[34m--------------------------------------\u001b[0m\n",
      "\u001b[34m2023-12-19 15:32:58,903 sagemaker-training-toolkit INFO     Waiting for the process to finish and give a return code.\u001b[0m\n",
      "\u001b[34m2023-12-19 15:32:58,903 sagemaker-training-toolkit INFO     Done waiting for a return code. Received 0 from exiting process.\u001b[0m\n",
      "\u001b[34m2023-12-19 15:32:58,904 sagemaker-training-toolkit INFO     Reporting training SUCCESS\u001b[0m\n",
      "\n",
      "2023-12-19 15:33:16 Completed - Training job completed\n",
      "Training seconds: 851\n",
      "Billable seconds: 851\n"
     ]
    }
   ],
   "source": [
    "estimator = sagemaker.algorithm.AlgorithmEstimator(\n",
    "    algorithm_arn=algo_arn,\n",
    "    role=role,\n",
    "    instance_count=1,\n",
    "    instance_type=instance_type,\n",
    "    input_mode=\"File\",\n",
    "    sagemaker_session=sagemaker_session,\n",
    "    hyperparameters={\n",
    "        \"filters\": 32,\n",
    "        \"depth\": 6,\n",
    "        \"models\": 5,\n",
    "        \"batch-size\": 64,\n",
    "        \"lr\": 0.0001,\n",
    "        \"lr-decay\": 1.0,\n",
    "        \"epochs\": 20,\n",
    "    },\n",
    ")\n",
    "\n",
    "estimator.fit({\"training\": training_data})"
   ]
  },
  {
   "cell_type": "markdown",
   "id": "c6c46475-d04e-4f2d-ab63-a682dc8c119b",
   "metadata": {},
   "source": [
    "### 4. Inference"
   ]
  },
  {
   "cell_type": "markdown",
   "id": "5a9782c1-3bf8-4062-ad2d-bc45b80531dd",
   "metadata": {},
   "source": [
    "Deploy the model to a real-time endpoint."
   ]
  },
  {
   "cell_type": "code",
   "execution_count": 18,
   "id": "1c3991ec-9e20-4385-b14f-5fe8b829d8e6",
   "metadata": {
    "tags": []
   },
   "outputs": [],
   "source": [
    "serializer = sagemaker.serializers.CSVSerializer(content_type=\"text/csv\")\n",
    "deserializer = sagemaker.deserializers.CSVDeserializer(accept=\"text/csv\")"
   ]
  },
  {
   "cell_type": "code",
   "execution_count": 19,
   "id": "2adefd9b-5530-420f-8408-55c37dca41f4",
   "metadata": {
    "tags": []
   },
   "outputs": [
    {
     "name": "stderr",
     "output_type": "stream",
     "text": [
      "INFO:sagemaker:Creating model package with name: inception-time-v1-7-2023-12-19-15-33-53-359\n"
     ]
    },
    {
     "name": "stdout",
     "output_type": "stream",
     "text": [
      "........."
     ]
    },
    {
     "name": "stderr",
     "output_type": "stream",
     "text": [
      "INFO:sagemaker:Creating model with name: inception-time-v1-7-2023-12-19-15-33-53-359\n"
     ]
    },
    {
     "name": "stdout",
     "output_type": "stream",
     "text": [
      "\n"
     ]
    },
    {
     "name": "stderr",
     "output_type": "stream",
     "text": [
      "INFO:sagemaker:Creating endpoint-config with name inception-time-v1-7-2023-12-19-15-33-53-359\n",
      "INFO:sagemaker:Creating endpoint with name inception-time-v1-7-2023-12-19-15-33-53-359\n"
     ]
    },
    {
     "name": "stdout",
     "output_type": "stream",
     "text": [
      "--------!"
     ]
    }
   ],
   "source": [
    "predictor = estimator.deploy(\n",
    "    initial_instance_count=1,\n",
    "    instance_type=instance_type,\n",
    "    serializer=serializer,\n",
    "    deserializer=deserializer,\n",
    ")"
   ]
  },
  {
   "cell_type": "markdown",
   "id": "81fa0dca-c97b-4591-8f67-08f5e36b7672",
   "metadata": {},
   "source": [
    "Invoke the endpoint."
   ]
  },
  {
   "cell_type": "code",
   "execution_count": 20,
   "id": "96ddcb0c-987d-4c5f-bbdb-490185ce0476",
   "metadata": {
    "tags": []
   },
   "outputs": [],
   "source": [
    "batch_size = 100\n",
    "\n",
    "predictions = pd.DataFrame()\n",
    "\n",
    "for i in range(0, len(test_dataset), batch_size):\n",
    "\n",
    "    response = sagemaker_session.sagemaker_runtime_client.invoke_endpoint(\n",
    "        EndpointName=predictor.endpoint_name,\n",
    "        ContentType=\"text/csv\",\n",
    "        Body=serializer.serialize(test_dataset.iloc[i:i + batch_size, 1:].to_csv(index=False, header=False))\n",
    "    )\n",
    "\n",
    "    predictions = pd.concat([\n",
    "        predictions,\n",
    "        pd.DataFrame(\n",
    "            data=deserializer.deserialize(response[\"Body\"], content_type=\"text/csv\"),\n",
    "            dtype=float\n",
    "        )\n",
    "    ], axis=0)"
   ]
  },
  {
   "cell_type": "code",
   "execution_count": 21,
   "id": "3f7ce80f-8607-4ea6-a5c1-388b7ea045d0",
   "metadata": {
    "tags": []
   },
   "outputs": [
    {
     "data": {
      "text/plain": [
       "(6164, 1)"
      ]
     },
     "execution_count": 21,
     "metadata": {},
     "output_type": "execute_result"
    }
   ],
   "source": [
    "predictions.shape"
   ]
  },
  {
   "cell_type": "code",
   "execution_count": 22,
   "id": "40bac8d8-fc19-4cbb-a1c1-25953cbc51f7",
   "metadata": {
    "tags": []
   },
   "outputs": [
    {
     "data": {
      "text/html": [
       "<div>\n",
       "<style scoped>\n",
       "    .dataframe tbody tr th:only-of-type {\n",
       "        vertical-align: middle;\n",
       "    }\n",
       "\n",
       "    .dataframe tbody tr th {\n",
       "        vertical-align: top;\n",
       "    }\n",
       "\n",
       "    .dataframe thead th {\n",
       "        text-align: right;\n",
       "    }\n",
       "</style>\n",
       "<table border=\"1\" class=\"dataframe\">\n",
       "  <thead>\n",
       "    <tr style=\"text-align: right;\">\n",
       "      <th></th>\n",
       "      <th>0</th>\n",
       "    </tr>\n",
       "  </thead>\n",
       "  <tbody>\n",
       "    <tr>\n",
       "      <th>0</th>\n",
       "      <td>1.0</td>\n",
       "    </tr>\n",
       "    <tr>\n",
       "      <th>1</th>\n",
       "      <td>1.0</td>\n",
       "    </tr>\n",
       "    <tr>\n",
       "      <th>2</th>\n",
       "      <td>1.0</td>\n",
       "    </tr>\n",
       "    <tr>\n",
       "      <th>3</th>\n",
       "      <td>1.0</td>\n",
       "    </tr>\n",
       "    <tr>\n",
       "      <th>4</th>\n",
       "      <td>1.0</td>\n",
       "    </tr>\n",
       "  </tbody>\n",
       "</table>\n",
       "</div>"
      ],
      "text/plain": [
       "     0\n",
       "0  1.0\n",
       "1  1.0\n",
       "2  1.0\n",
       "3  1.0\n",
       "4  1.0"
      ]
     },
     "execution_count": 22,
     "metadata": {},
     "output_type": "execute_result"
    }
   ],
   "source": [
    "predictions.head()"
   ]
  },
  {
   "cell_type": "code",
   "execution_count": 23,
   "id": "c212cd3c-1e1d-4200-882b-b6cbdd9421fc",
   "metadata": {
    "tags": []
   },
   "outputs": [
    {
     "data": {
      "text/plain": [
       "array([-1.,  1.])"
      ]
     },
     "execution_count": 23,
     "metadata": {},
     "output_type": "execute_result"
    }
   ],
   "source": [
    "predictions.iloc[:, 0].sort_values().unique()"
   ]
  },
  {
   "cell_type": "code",
   "execution_count": 24,
   "id": "d3851230-443a-4ccc-a04d-9f74c99bdea7",
   "metadata": {
    "tags": []
   },
   "outputs": [
    {
     "data": {
      "text/plain": [
       "-1.0     683\n",
       " 1.0    5481\n",
       "Name: count, dtype: int64"
      ]
     },
     "execution_count": 24,
     "metadata": {},
     "output_type": "execute_result"
    }
   ],
   "source": [
    "predictions.iloc[:, 0].rename(None).value_counts().sort_index()"
   ]
  },
  {
   "cell_type": "markdown",
   "id": "d9775607-5c92-4316-9ec6-f3569dfb451a",
   "metadata": {},
   "source": [
    "Calculate the classification metrics."
   ]
  },
  {
   "cell_type": "code",
   "execution_count": 25,
   "id": "ad2b172b-9664-42d8-8ee9-5239255c3de9",
   "metadata": {
    "tags": []
   },
   "outputs": [],
   "source": [
    "metrics = pd.DataFrame(classification_report(y_true=test_dataset.iloc[:, 0], y_pred=predictions.iloc[:, 0], output_dict=True))"
   ]
  },
  {
   "cell_type": "code",
   "execution_count": 26,
   "id": "402378d8-8fd4-43c0-9c55-5f90fd5fbe1e",
   "metadata": {
    "tags": []
   },
   "outputs": [
    {
     "data": {
      "text/html": [
       "<div>\n",
       "<style scoped>\n",
       "    .dataframe tbody tr th:only-of-type {\n",
       "        vertical-align: middle;\n",
       "    }\n",
       "\n",
       "    .dataframe tbody tr th {\n",
       "        vertical-align: top;\n",
       "    }\n",
       "\n",
       "    .dataframe thead th {\n",
       "        text-align: right;\n",
       "    }\n",
       "</style>\n",
       "<table border=\"1\" class=\"dataframe\">\n",
       "  <thead>\n",
       "    <tr style=\"text-align: right;\">\n",
       "      <th></th>\n",
       "      <th>-1.0</th>\n",
       "      <th>1.0</th>\n",
       "      <th>accuracy</th>\n",
       "      <th>macro avg</th>\n",
       "      <th>weighted avg</th>\n",
       "    </tr>\n",
       "  </thead>\n",
       "  <tbody>\n",
       "    <tr>\n",
       "      <th>precision</th>\n",
       "      <td>0.973646</td>\n",
       "      <td>1.000000</td>\n",
       "      <td>0.99708</td>\n",
       "      <td>0.986823</td>\n",
       "      <td>0.997157</td>\n",
       "    </tr>\n",
       "    <tr>\n",
       "      <th>recall</th>\n",
       "      <td>1.000000</td>\n",
       "      <td>0.996727</td>\n",
       "      <td>0.99708</td>\n",
       "      <td>0.998363</td>\n",
       "      <td>0.997080</td>\n",
       "    </tr>\n",
       "    <tr>\n",
       "      <th>f1-score</th>\n",
       "      <td>0.986647</td>\n",
       "      <td>0.998361</td>\n",
       "      <td>0.99708</td>\n",
       "      <td>0.992504</td>\n",
       "      <td>0.997097</td>\n",
       "    </tr>\n",
       "    <tr>\n",
       "      <th>support</th>\n",
       "      <td>665.000000</td>\n",
       "      <td>5499.000000</td>\n",
       "      <td>0.99708</td>\n",
       "      <td>6164.000000</td>\n",
       "      <td>6164.000000</td>\n",
       "    </tr>\n",
       "  </tbody>\n",
       "</table>\n",
       "</div>"
      ],
      "text/plain": [
       "                 -1.0          1.0  accuracy    macro avg  weighted avg\n",
       "precision    0.973646     1.000000   0.99708     0.986823      0.997157\n",
       "recall       1.000000     0.996727   0.99708     0.998363      0.997080\n",
       "f1-score     0.986647     0.998361   0.99708     0.992504      0.997097\n",
       "support    665.000000  5499.000000   0.99708  6164.000000   6164.000000"
      ]
     },
     "execution_count": 26,
     "metadata": {},
     "output_type": "execute_result"
    }
   ],
   "source": [
    "metrics"
   ]
  },
  {
   "cell_type": "markdown",
   "id": "7117bbbc-3fef-477a-b339-768dd2af3be8",
   "metadata": {},
   "source": [
    "Delete the model."
   ]
  },
  {
   "cell_type": "code",
   "execution_count": 27,
   "id": "3e32ed6b-78fc-4da5-855b-d69d2e734d2f",
   "metadata": {
    "tags": []
   },
   "outputs": [
    {
     "name": "stderr",
     "output_type": "stream",
     "text": [
      "INFO:sagemaker:Deleting model with name: inception-time-v1-7-2023-12-19-15-33-53-359\n"
     ]
    }
   ],
   "source": [
    "predictor.delete_model()"
   ]
  },
  {
   "cell_type": "markdown",
   "id": "d45d5cd6-a4aa-45e4-bb5b-2ca372fe4b23",
   "metadata": {},
   "source": [
    "Delete the endpoint."
   ]
  },
  {
   "cell_type": "code",
   "execution_count": 28,
   "id": "bcf85112-c82b-4489-a150-13313caf6e64",
   "metadata": {
    "tags": []
   },
   "outputs": [
    {
     "name": "stderr",
     "output_type": "stream",
     "text": [
      "INFO:sagemaker:Deleting endpoint configuration with name: inception-time-v1-7-2023-12-19-15-33-53-359\n",
      "INFO:sagemaker:Deleting endpoint with name: inception-time-v1-7-2023-12-19-15-33-53-359\n"
     ]
    }
   ],
   "source": [
    "predictor.delete_endpoint()"
   ]
  }
 ],
 "metadata": {
  "kernelspec": {
   "display_name": "conda_python3",
   "language": "python",
   "name": "conda_python3"
  },
  "language_info": {
   "codemirror_mode": {
    "name": "ipython",
    "version": 3
   },
   "file_extension": ".py",
   "mimetype": "text/x-python",
   "name": "python",
   "nbconvert_exporter": "python",
   "pygments_lexer": "ipython3",
   "version": "3.10.13"
  }
 },
 "nbformat": 4,
 "nbformat_minor": 5
}
